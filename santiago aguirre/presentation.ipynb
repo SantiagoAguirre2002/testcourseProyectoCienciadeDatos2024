{
 "cells": [
  {
   "cell_type": "markdown",
   "source": [
    "Me llamo Santiago Aguirre, estudio Ingeniería y Ciencia de datos. Tengo 21 años y estoy en 5to semestre."
   ],
   "metadata": {
    "collapsed": false
   },
   "id": "cdc6b75c9a2207ce"
  }
 ],
 "metadata": {
  "kernelspec": {
   "display_name": "Python 3",
   "language": "python",
   "name": "python3"
  },
  "language_info": {
   "codemirror_mode": {
    "name": "ipython",
    "version": 2
   },
   "file_extension": ".py",
   "mimetype": "text/x-python",
   "name": "python",
   "nbconvert_exporter": "python",
   "pygments_lexer": "ipython2",
   "version": "2.7.6"
  }
 },
 "nbformat": 4,
 "nbformat_minor": 5
}
